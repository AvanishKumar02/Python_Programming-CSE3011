{
  "nbformat": 4,
  "nbformat_minor": 0,
  "metadata": {
    "colab": {
      "provenance": [],
      "mount_file_id": "1nksbK0c6YQw_lLvWSuDxVKroBZs85kIa",
      "authorship_tag": "ABX9TyMvE5Nllf2YWxYOrHIR6buZ",
      "include_colab_link": true
    },
    "kernelspec": {
      "name": "python3",
      "display_name": "Python 3"
    },
    "language_info": {
      "name": "python"
    }
  },
  "cells": [
    {
      "cell_type": "markdown",
      "metadata": {
        "id": "view-in-github",
        "colab_type": "text"
      },
      "source": [
        "<a href=\"https://colab.research.google.com/github/AvanishKumar02/Python_Programming-CSE3011/blob/main/20-02-24.ipynb\" target=\"_parent\"><img src=\"https://colab.research.google.com/assets/colab-badge.svg\" alt=\"Open In Colab\"/></a>"
      ]
    },
    {
      "cell_type": "markdown",
      "source": [
        "Date: **01/02/2024**"
      ],
      "metadata": {
        "id": "hGNjyto0o30j"
      }
    },
    {
      "cell_type": "code",
      "source": [
        "print(\"Hello World\")"
      ],
      "metadata": {
        "colab": {
          "base_uri": "https://localhost:8080/"
        },
        "id": "mqsOVmgVpGy0",
        "outputId": "02b3a2e0-9abb-4db7-b148-8d659991d3f1"
      },
      "execution_count": null,
      "outputs": [
        {
          "output_type": "stream",
          "name": "stdout",
          "text": [
            "Hello World\n"
          ]
        }
      ]
    },
    {
      "cell_type": "markdown",
      "source": [
        "Date : **20/02/2024**"
      ],
      "metadata": {
        "id": "t0G4vL2yQFze"
      }
    },
    {
      "cell_type": "code",
      "source": [
        "n=int(input(\"Enter the number up to which you want to print : \"))\n",
        "for i in range(2,n,2):\n",
        "  print(i)"
      ],
      "metadata": {
        "id": "Tn_AZUoSpMkx",
        "colab": {
          "base_uri": "https://localhost:8080/"
        },
        "outputId": "03d26db7-5664-4077-e866-363dbb37b0ac"
      },
      "execution_count": null,
      "outputs": [
        {
          "output_type": "stream",
          "name": "stdout",
          "text": [
            "Enter the number up to which you want to print : 20\n",
            "2\n",
            "4\n",
            "6\n",
            "8\n",
            "10\n",
            "12\n",
            "14\n",
            "16\n",
            "18\n"
          ]
        }
      ]
    },
    {
      "cell_type": "code",
      "source": [
        "n=int(input(\"Enter number of rows u want to print : \"))\n",
        "for i in range(0,n):\n",
        "  print()\n",
        "  for j in range(0,i+1):\n",
        "    print(\"*\",end=\"\")"
      ],
      "metadata": {
        "colab": {
          "base_uri": "https://localhost:8080/"
        },
        "id": "YhCu5MhEQuLm",
        "outputId": "bed99b7c-bf97-4c05-9e26-beebf9290faa"
      },
      "execution_count": null,
      "outputs": [
        {
          "output_type": "stream",
          "name": "stdout",
          "text": [
            "Enter number of rows u want to print : 5\n",
            "\n",
            "*\n",
            "**\n",
            "***\n",
            "****\n",
            "*****"
          ]
        }
      ]
    },
    {
      "cell_type": "code",
      "source": [
        "#while loops\n",
        "i=1\n",
        "while  i<=5:\n",
        "  print(i)\n",
        "  i=i+1"
      ],
      "metadata": {
        "colab": {
          "base_uri": "https://localhost:8080/"
        },
        "id": "aY9oCOzsSLXD",
        "outputId": "a826eb9c-8d5d-4eb3-b99e-162733340061"
      },
      "execution_count": null,
      "outputs": [
        {
          "output_type": "stream",
          "name": "stdout",
          "text": [
            "1\n",
            "2\n",
            "3\n",
            "4\n",
            "5\n"
          ]
        }
      ]
    },
    {
      "cell_type": "code",
      "source": [
        "#break Statement\n",
        "list = [10, 20, 30, 40, 50, 60, 70]\n",
        "count=1\n",
        "for i in list:\n",
        "  if i == 80:\n",
        "    print(\"item matched\")\n",
        "    print(\"fount at \",count,\" location\")\n",
        "    break\n",
        "  else:\n",
        "    count = count+1\n",
        "else:\n",
        "  print(\"item not found\")\n"
      ],
      "metadata": {
        "colab": {
          "base_uri": "https://localhost:8080/"
        },
        "id": "5HTzUt08SlM1",
        "outputId": "85aaca7f-24c7-4798-f4c8-38f12c9ed816"
      },
      "execution_count": null,
      "outputs": [
        {
          "output_type": "stream",
          "name": "stdout",
          "text": [
            "item not found\n"
          ]
        }
      ]
    },
    {
      "cell_type": "code",
      "source": [
        "#continue statement\n",
        "for i in range(1,8):\n",
        "  if i<6:\n",
        "    print(\"Skip\")\n",
        "    continue\n",
        "print(i)"
      ],
      "metadata": {
        "colab": {
          "base_uri": "https://localhost:8080/"
        },
        "id": "7UCIMcg_Tabr",
        "outputId": "8a9708a6-6b7c-41aa-c5ac-d0b144451d60"
      },
      "execution_count": null,
      "outputs": [
        {
          "output_type": "stream",
          "name": "stdout",
          "text": [
            "Skip\n",
            "Skip\n",
            "Skip\n",
            "Skip\n",
            "Skip\n",
            "7\n"
          ]
        }
      ]
    },
    {
      "cell_type": "code",
      "source": [
        "#Continue statement\n",
        "li = ['a', 'e', 'i', 'o', 'u']\n",
        "for i in li:\n",
        "  if(i == 'a'):\n",
        "    continue\n",
        "  else:\n",
        "    print(i)\n",
        "  print('hello')"
      ],
      "metadata": {
        "colab": {
          "base_uri": "https://localhost:8080/"
        },
        "id": "5hekpQqHZUo7",
        "outputId": "3b2ad40a-bb79-4c4a-8bcc-75a3025cef15"
      },
      "execution_count": null,
      "outputs": [
        {
          "output_type": "stream",
          "name": "stdout",
          "text": [
            "e\n",
            "hello\n",
            "i\n",
            "hello\n",
            "o\n",
            "hello\n",
            "u\n",
            "hello\n"
          ]
        }
      ]
    },
    {
      "cell_type": "code",
      "source": [
        "#pass statement\n",
        "li = ['a', 'e', 'i', 'o', 'u']\n",
        "for i in li:\n",
        "  if(i == 'a'):\n",
        "    pass\n",
        "  else:\n",
        "    print(i)\n",
        "  print('hello')"
      ],
      "metadata": {
        "colab": {
          "base_uri": "https://localhost:8080/"
        },
        "id": "dQl9qOKxX4t1",
        "outputId": "0106fd89-e1fd-4aae-fc29-54db1766e5f1"
      },
      "execution_count": null,
      "outputs": [
        {
          "output_type": "stream",
          "name": "stdout",
          "text": [
            "hello\n",
            "e\n",
            "hello\n",
            "i\n",
            "hello\n",
            "o\n",
            "hello\n",
            "u\n",
            "hello\n"
          ]
        }
      ]
    },
    {
      "cell_type": "markdown",
      "source": [],
      "metadata": {
        "id": "DhF3qDfhQF90"
      }
    }
  ]
}